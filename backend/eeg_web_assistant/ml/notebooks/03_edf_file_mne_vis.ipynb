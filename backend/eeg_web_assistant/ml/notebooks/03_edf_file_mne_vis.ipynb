{
 "cells": [
  {
   "cell_type": "markdown",
   "metadata": {},
   "source": [
    "# __Load raw data files__"
   ]
  },
  {
   "cell_type": "markdown",
   "metadata": {},
   "source": [
    "### Setup"
   ]
  },
  {
   "cell_type": "code",
   "execution_count": null,
   "metadata": {},
   "outputs": [],
   "source": [
    "%load_ext watermark\n",
    "%load_ext autoreload"
   ]
  },
  {
   "cell_type": "code",
   "execution_count": null,
   "metadata": {},
   "outputs": [],
   "source": [
    "%autoreload 2\n",
    "%watermark -v -n -m -p numpy"
   ]
  },
  {
   "cell_type": "code",
   "execution_count": null,
   "metadata": {},
   "outputs": [],
   "source": [
    "import sys\n",
    "sys.path.append('../' * 3)\n",
    "from pathlib import Path\n",
    "from eeg_web_assistant import settings"
   ]
  },
  {
   "cell_type": "code",
   "execution_count": null,
   "metadata": {},
   "outputs": [],
   "source": [
    "SEIZURE_SAMPLE = settings.DatasetConfig.SAMPLES_DIR / 'seizure_edf_1.edf'\n",
    "\n",
    "SEIZURE_SAMPLE"
   ]
  },
  {
   "cell_type": "markdown",
   "metadata": {},
   "source": [
    "## Read EDF file with MNE library"
   ]
  },
  {
   "cell_type": "code",
   "execution_count": null,
   "metadata": {},
   "outputs": [],
   "source": [
    "import mne\n",
    "\n",
    "seizure_raw = mne.io.read_raw_edf(str(SEIZURE_SAMPLE), preload=True, exclude=[\"BURSTS\",\n",
    "                                                                            \"ECG EKG-REF\",\n",
    "                                                                            \"EMG-REF\",\n",
    "                                                                            \"IBI\",\n",
    "                                                                            \"PHOTIC-REF\",\n",
    "                                                                            \"PULSE RATE\",\n",
    "                                                                            \"RESP ABDOMEN-RE\",\n",
    "                                                                            \"SUPPR\"])"
   ]
  },
  {
   "cell_type": "code",
   "execution_count": null,
   "metadata": {},
   "outputs": [],
   "source": [
    "seizure_raw.close()"
   ]
  },
  {
   "cell_type": "markdown",
   "metadata": {},
   "source": [
    "Resample data"
   ]
  },
  {
   "cell_type": "code",
   "execution_count": null,
   "metadata": {},
   "outputs": [],
   "source": [
    "raw_resampled_100 = seizure_raw.copy().resample(100, npad='auto')"
   ]
  },
  {
   "cell_type": "code",
   "execution_count": null,
   "metadata": {},
   "outputs": [],
   "source": [
    "raw_resampled_100.get_data()"
   ]
  },
  {
   "cell_type": "code",
   "execution_count": null,
   "metadata": {},
   "outputs": [],
   "source": [
    "seizure_raw.n_times"
   ]
  },
  {
   "cell_type": "code",
   "execution_count": null,
   "metadata": {},
   "outputs": [],
   "source": [
    "seizure_raw.times"
   ]
  },
  {
   "cell_type": "code",
   "execution_count": null,
   "metadata": {},
   "outputs": [],
   "source": [
    "seizure_raw.info['sfreq']"
   ]
  },
  {
   "cell_type": "code",
   "execution_count": null,
   "metadata": {},
   "outputs": [],
   "source": [
    "type(seizure_raw.info['meas_date'])"
   ]
  },
  {
   "cell_type": "code",
   "execution_count": null,
   "metadata": {},
   "outputs": [],
   "source": [
    "subject = seizure_raw.info['subject_info']\n",
    "type(subject)"
   ]
  },
  {
   "cell_type": "code",
   "execution_count": null,
   "metadata": {},
   "outputs": [],
   "source": [
    "origin_info = seizure_raw.info\n",
    "origin_info.update({'subject_info': {\n",
    "                            'id': 1,\n",
    "                            'his_id': 'P0002',\n",
    "                            'last_name': 'Chlebus',\n",
    "                            'first_name': 'Joanna',\n",
    "                            'birthday': (1998, 1, 6),\n",
    "                            'sex': 2,\n",
    "                            'hand': 1}})\n",
    "\n",
    "origin_info.get('device_info')"
   ]
  },
  {
   "cell_type": "code",
   "execution_count": null,
   "metadata": {},
   "outputs": [],
   "source": [
    "seizure_raw.info = origin_info"
   ]
  },
  {
   "cell_type": "code",
   "execution_count": null,
   "metadata": {},
   "outputs": [],
   "source": [
    "seizure_raw.info"
   ]
  },
  {
   "cell_type": "code",
   "execution_count": null,
   "metadata": {},
   "outputs": [],
   "source": [
    "seizure_raw.n_times"
   ]
  },
  {
   "cell_type": "code",
   "execution_count": null,
   "metadata": {},
   "outputs": [],
   "source": [
    "seizure_raw.first_samp"
   ]
  },
  {
   "cell_type": "code",
   "execution_count": null,
   "metadata": {},
   "outputs": [],
   "source": [
    "seizure_raw.last_samp"
   ]
  },
  {
   "cell_type": "code",
   "execution_count": null,
   "metadata": {},
   "outputs": [],
   "source": [
    "types = seizure_raw.get_channel_types()\n",
    "types"
   ]
  },
  {
   "cell_type": "code",
   "execution_count": null,
   "metadata": {},
   "outputs": [],
   "source": [
    "seizure_raw.ch_names"
   ]
  },
  {
   "cell_type": "code",
   "execution_count": null,
   "metadata": {},
   "outputs": [],
   "source": [
    "seizure_raw.n_times"
   ]
  },
  {
   "cell_type": "code",
   "execution_count": null,
   "metadata": {},
   "outputs": [],
   "source": [
    "from matplotlib import pyplot as plt\n",
    "\n",
    "plt.figure(figsize=(12,6))\n",
    "\n",
    "seizure_raw.plot(block=True)"
   ]
  },
  {
   "cell_type": "markdown",
   "metadata": {},
   "source": [
    "## Read EDF file with pyEDFlib library"
   ]
  },
  {
   "cell_type": "code",
   "execution_count": null,
   "metadata": {},
   "outputs": [],
   "source": [
    "import pyedflib\n",
    "\n",
    "seizure = pyedflib.EdfReader(str(SEIZURE_SAMPLE))"
   ]
  },
  {
   "cell_type": "code",
   "execution_count": null,
   "metadata": {},
   "outputs": [],
   "source": [
    "seizure.file_info()"
   ]
  },
  {
   "cell_type": "code",
   "execution_count": null,
   "metadata": {},
   "outputs": [],
   "source": [
    "seizure.file_info_long()"
   ]
  },
  {
   "cell_type": "code",
   "execution_count": null,
   "metadata": {},
   "outputs": [],
   "source": [
    "seizure.getNSamples()"
   ]
  },
  {
   "cell_type": "code",
   "execution_count": null,
   "metadata": {},
   "outputs": [],
   "source": [
    "seizure.getSignalHeaders()"
   ]
  },
  {
   "cell_type": "code",
   "execution_count": null,
   "metadata": {},
   "outputs": [],
   "source": [
    "seizure.getSignalLabels()"
   ]
  },
  {
   "cell_type": "code",
   "execution_count": null,
   "metadata": {},
   "outputs": [],
   "source": [
    "last_chn_signal = seizure.readSignal(chn=26)"
   ]
  },
  {
   "cell_type": "code",
   "execution_count": null,
   "metadata": {},
   "outputs": [],
   "source": [
    "len(last_chn_signal)"
   ]
  },
  {
   "cell_type": "code",
   "execution_count": null,
   "metadata": {},
   "outputs": [],
   "source": [
    "last_chn_signal"
   ]
  },
  {
   "cell_type": "markdown",
   "metadata": {},
   "source": [
    "## Visualize EEG with plotly"
   ]
  },
  {
   "cell_type": "code",
   "execution_count": null,
   "metadata": {},
   "outputs": [],
   "source": [
    "import plotly.graph_objects as go\n",
    "import plotly.express as px\n",
    "\n",
    "import numpy as np"
   ]
  },
  {
   "cell_type": "code",
   "execution_count": null,
   "metadata": {},
   "outputs": [],
   "source": [
    "raw_resampled_100 = seizure_raw"
   ]
  },
  {
   "cell_type": "code",
   "execution_count": null,
   "metadata": {},
   "outputs": [],
   "source": [
    "ch_names = raw_resampled_100.ch_names\n",
    "n_channels = len(ch_names)\n",
    "n_times = raw_resampled_100.n_times"
   ]
  },
  {
   "cell_type": "code",
   "execution_count": null,
   "metadata": {},
   "outputs": [],
   "source": [
    "data_array = raw_resampled_100.get_data()\n",
    "data_array = data_array.astype(np.float16)\n",
    "data_array.shape"
   ]
  },
  {
   "cell_type": "code",
   "execution_count": null,
   "metadata": {},
   "outputs": [],
   "source": [
    "n_times = 16 * 256\n",
    "\n",
    "data_array = data_array[:, :n_times]\n",
    "print(data_array.shape)"
   ]
  },
  {
   "cell_type": "code",
   "execution_count": null,
   "metadata": {},
   "outputs": [],
   "source": [
    "type(data_array[0,0])"
   ]
  },
  {
   "cell_type": "code",
   "execution_count": null,
   "metadata": {},
   "outputs": [],
   "source": [
    "step = 1. / n_channels\n",
    "x_axis = [(x / 256) for x in range(0, n_times+1)]\n",
    "\n",
    "data = []\n",
    "layout = go.Layout()\n",
    "\n",
    "for chan_nr in range(n_channels):\n",
    "    domain_start = chan_nr * step\n",
    "    domain_stop = (chan_nr + 1) * step\n",
    "    \n",
    "    kwargs = dict(domain=[domain_start, domain_stop], showticklabels=False, zeroline=False, showgrid=False)\n",
    "    \n",
    "    trace = go.Scattergl(x=x_axis, y=data_array[chan_nr, :], yaxis=f'y{chan_nr+1}')\n",
    "    data.append(trace)\n",
    "    \n",
    "    layout.update({f'yaxis{chan_nr+1}': kwargs, 'showlegend': False})\n",
    "    \n",
    "# add channel names using Annotations\n",
    "annotations = go.Annotations([go.layout.Annotation(x=-0.105, y=0, xref='paper', yref=f'y{ii+1}',\n",
    "                                      text=ch_name, font=go.layout.annotation.Font(size=9), showarrow=False)\n",
    "                          for ii, ch_name in enumerate(ch_names)])\n",
    "layout.update(annotations=annotations)\n",
    "\n",
    "\n",
    "layout.update(autosize=False, width=800, height=600)\n",
    "fig = go.Figure(data=data, layout=layout)\n",
    "fig.update_layout(margin=dict(l=90, r=20, t=20, b=20))\n",
    "\n",
    "fig.update_layout(showlegend=False)\n",
    "fig.update_layout(xaxis=dict(title='times [s]', rangeslider=dict(visible=True, range=[0, 16]), range=[0, 8], showgrid=False))\n",
    "fig.update_xaxes(rangeslider_thickness = 0.05)\n",
    "\n",
    "# fig.write_html(\"file.html\")\n",
    "# fig.show()"
   ]
  },
  {
   "cell_type": "code",
   "execution_count": null,
   "metadata": {},
   "outputs": [],
   "source": [
    "from typing import List\n",
    "\n",
    "def _get_plot_img(plot_array: np.ndarray, start_time: int, sfreq: int, ch_names: List[str]):\n",
    "    channel_amount, n_times = plot_array.shape\n",
    "    step = 1. / channel_amount\n",
    "\n",
    "    layout = go.Layout()\n",
    "\n",
    "    x_axis = [(x / sfreq) + start_time for x in range(0, n_times + 1)]\n",
    "\n",
    "    plot_traces = []\n",
    "    for chan_nr in range(channel_amount):\n",
    "        domain_start = chan_nr * step\n",
    "        domain_stop = (chan_nr + 1) * step\n",
    "\n",
    "        kwargs = dict(domain=[domain_start, domain_stop], showticklabels=False, zeroline=False,\n",
    "                      showgrid=False)\n",
    "\n",
    "        trace = go.Scattergl(x=x_axis, y=plot_array[chan_nr, :], yaxis=f'y{chan_nr + 1}')\n",
    "        plot_traces.append(trace)\n",
    "\n",
    "        layout.update({f'yaxis{chan_nr + 1}': kwargs, 'showlegend': False})\n",
    "\n",
    "    # add channel names\n",
    "    annotations = go.Annotations(\n",
    "        [go.layout.Annotation(\n",
    "            x=-0.105, y=0, xref='paper', yref=f'y{ii + 1}',\n",
    "            text=ch_name, font=go.layout.annotation.Font(size=9),\n",
    "            showarrow=False\n",
    "        ) for ii, ch_name in enumerate(ch_names)])\n",
    "\n",
    "    layout.update(annotations=annotations)\n",
    "    layout.update(autosize=False, width=800, height=600)\n",
    "\n",
    "    fig = go.Figure(data=plot_traces, layout=layout)\n",
    "    fig.update_layout(margin=dict(l=90, r=20, t=20, b=20))\n",
    "\n",
    "    img_bytes = fig.to_image(format='png', engine=\"kaleido\")\n",
    "\n",
    "    return img_bytes"
   ]
  },
  {
   "cell_type": "code",
   "execution_count": null,
   "metadata": {},
   "outputs": [],
   "source": [
    "img_bytes = _get_plot_img(plot_array=data_array, start_time=16, sfreq=256, ch_names=ch_names)\n",
    "\n",
    "from IPython.display import Image\n",
    "Image(img_bytes)"
   ]
  },
  {
   "cell_type": "code",
   "execution_count": null,
   "metadata": {},
   "outputs": [],
   "source": []
  },
  {
   "cell_type": "markdown",
   "metadata": {},
   "source": [
    "### Plotly express"
   ]
  },
  {
   "cell_type": "code",
   "execution_count": null,
   "metadata": {},
   "outputs": [],
   "source": [
    "import plotly.express as px\n",
    "\n",
    "raw_resampled_df = raw_resampled_100.to_data_frame()\n",
    "raw_resampled_df = raw_resampled_df.drop(columns=['time'])\n",
    "raw_resampled_df = raw_resampled_df.reset_index()"
   ]
  },
  {
   "cell_type": "code",
   "execution_count": null,
   "metadata": {},
   "outputs": [],
   "source": [
    "raw_resampled_df"
   ]
  },
  {
   "cell_type": "code",
   "execution_count": null,
   "metadata": {},
   "outputs": [],
   "source": [
    "frame_times = 1 * 60 * 256\n",
    "\n",
    "frame_nr_col = [(val // frame_times) for val in raw_resampled_df['index'].values]\n",
    "time_col = [val % frame_times for val in raw_resampled_df['index'].values]\n",
    "\n",
    "\n",
    "raw_resampled_df.insert(loc=1, column='frame_nr', value=frame_nr_col)\n",
    "raw_resampled_df.insert(loc=1, column='x_time', value=time_col)"
   ]
  },
  {
   "cell_type": "code",
   "execution_count": null,
   "metadata": {},
   "outputs": [],
   "source": [
    "raw_resampled_df"
   ]
  },
  {
   "cell_type": "code",
   "execution_count": null,
   "metadata": {},
   "outputs": [],
   "source": [
    "fig = px.line(raw_resampled_df, x='x_time', y=\"EEG FP1-REF\", animation_frame=\"frame_nr\", render_mode='webgl')\n",
    "\n",
    "\n",
    "fig[\"layout\"].pop(\"updatemenus\") # optional, drop animation buttons\n",
    "fig.update_layout(xaxis=dict(title='times [s]', rangeslider=dict(visible=True)))\n",
    "\n",
    "fig.show()\n"
   ]
  },
  {
   "cell_type": "code",
   "execution_count": null,
   "metadata": {},
   "outputs": [],
   "source": []
  },
  {
   "cell_type": "code",
   "execution_count": null,
   "metadata": {},
   "outputs": [],
   "source": [
    "import pandas as pd\n",
    "\n",
    "def create_df(df:pd.DataFrame):\n",
    "#     df = df[df['frame_nr'] < 11]\n",
    "    n_times = list(range(0, len(df))) * len(df.columns)\n",
    "    x_times = list(df['x_time'].values) * len(df.columns)\n",
    "    frame_nr = list(df['frame_nr'].values) * len(df.columns)\n",
    "    \n",
    "    signals = []\n",
    "    chan_names = []\n",
    "    \n",
    "    chan_cols = set(df.columns) - set(['index', 'x_time', 'frame_nr'])\n",
    "    \n",
    "    for col in list(chan_cols):\n",
    "        signals.extend(df[col].values)\n",
    "        chan_names.extend([col] * len(df[col].values))\n",
    "        \n",
    "    return pd.DataFrame(list(zip(n_times, x_times, frame_nr, signals, chan_names)), columns=['n_times','x_times', 'frame_nr', 'signal', 'ch'])\n",
    "    "
   ]
  },
  {
   "cell_type": "code",
   "execution_count": null,
   "metadata": {},
   "outputs": [],
   "source": [
    "signal_df = create_df(raw_resampled_df)\n",
    "\n",
    "signal_df"
   ]
  },
  {
   "cell_type": "code",
   "execution_count": null,
   "metadata": {},
   "outputs": [],
   "source": [
    "signal_df.info()"
   ]
  },
  {
   "cell_type": "code",
   "execution_count": null,
   "metadata": {},
   "outputs": [],
   "source": [
    "signal_df['signal'] = signal_df['signal'].astype(np.float16)"
   ]
  },
  {
   "cell_type": "code",
   "execution_count": null,
   "metadata": {},
   "outputs": [],
   "source": [
    "signal_df.describe()"
   ]
  },
  {
   "cell_type": "code",
   "execution_count": null,
   "metadata": {},
   "outputs": [],
   "source": [
    "fig = px.line(signal_df, x=\"x_times\", y=\"signal\", facet_row=\"ch\", animation_frame='frame_nr', facet_row_spacing=0.01, height=1500, render_mode='webgl')\n",
    "\n",
    "fig[\"layout\"].pop(\"updatemenus\") # optional, drop animation buttons\n",
    "fig.update_layout(xaxis=dict(title='times [s]', rangeslider=dict(visible=True)))\n",
    "fig.update_xaxes(rangeslider_thickness = 0.02)\n",
    "\n",
    "fig.write_html(\"file_all.html\")\n",
    "# fig.show()"
   ]
  },
  {
   "cell_type": "code",
   "execution_count": null,
   "metadata": {},
   "outputs": [],
   "source": []
  },
  {
   "cell_type": "code",
   "execution_count": null,
   "metadata": {},
   "outputs": [],
   "source": []
  },
  {
   "cell_type": "code",
   "execution_count": null,
   "metadata": {},
   "outputs": [],
   "source": [
    "seizure_channel_1 = list(seizure_df['EEG FP1-REF'].values)\n",
    "seizure_channel_2 = list(seizure_df['EEG FP2-REF'].values)\n",
    "\n",
    "n_times = list(range(0, 494080)) * 2\n",
    "\n",
    "\n",
    "seizure_chan_names = ['EEG FP1-REF'] * len(seizure_channel_1) + ['EEG FP2-REF'] * len(seizure_channel_2)\n",
    "len(seizure_chan_names)"
   ]
  },
  {
   "cell_type": "code",
   "execution_count": null,
   "metadata": {},
   "outputs": [],
   "source": [
    "seizure_channel_1.extend(seizure_channel_2)"
   ]
  },
  {
   "cell_type": "code",
   "execution_count": null,
   "metadata": {},
   "outputs": [],
   "source": [
    "import pandas as pd\n",
    "\n",
    "two_chan_df = pd.DataFrame(list(zip(n_times, seizure_channel_1, seizure_chan_names)), columns =['n_times','Signal', 'Channel']) \n",
    "two_chan_df.reset_index(inplace=True)"
   ]
  },
  {
   "cell_type": "code",
   "execution_count": null,
   "metadata": {},
   "outputs": [],
   "source": [
    "two_chan_df"
   ]
  },
  {
   "cell_type": "code",
   "execution_count": null,
   "metadata": {},
   "outputs": [],
   "source": []
  }
 ],
 "metadata": {
  "kernelspec": {
   "display_name": "eeg-web-assistant",
   "language": "python",
   "name": "eeg-web-assistant"
  },
  "language_info": {
   "codemirror_mode": {
    "name": "ipython",
    "version": 3
   },
   "file_extension": ".py",
   "mimetype": "text/x-python",
   "name": "python",
   "nbconvert_exporter": "python",
   "pygments_lexer": "ipython3",
   "version": "3.8.5"
  }
 },
 "nbformat": 4,
 "nbformat_minor": 4
}
