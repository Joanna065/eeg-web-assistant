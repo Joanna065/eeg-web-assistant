{
 "cells": [
  {
   "cell_type": "markdown",
   "metadata": {},
   "source": [
    "# __Prepare raw data files__"
   ]
  },
  {
   "cell_type": "markdown",
   "metadata": {},
   "source": [
    "### Setup"
   ]
  },
  {
   "cell_type": "code",
   "execution_count": null,
   "metadata": {},
   "outputs": [],
   "source": [
    "%load_ext watermark\n",
    "%load_ext autoreload"
   ]
  },
  {
   "cell_type": "code",
   "execution_count": null,
   "metadata": {},
   "outputs": [],
   "source": [
    "%autoreload 2\n",
    "%watermark -v -n -m -p numpy"
   ]
  },
  {
   "cell_type": "code",
   "execution_count": null,
   "metadata": {},
   "outputs": [],
   "source": [
    "import sys\n",
    "sys.path.append('../')\n",
    "from pathlib import Path\n",
    "import settings\n",
    "import mne"
   ]
  },
  {
   "cell_type": "markdown",
   "metadata": {},
   "source": [
    "## __Try pickle compression__"
   ]
  },
  {
   "cell_type": "code",
   "execution_count": null,
   "metadata": {},
   "outputs": [],
   "source": [
    "import compress_pickle\n",
    "import pickle"
   ]
  },
  {
   "cell_type": "code",
   "execution_count": null,
   "metadata": {},
   "outputs": [],
   "source": [
    "SAMPLE = settings.DatasetConfig.SAMPLES_DIR / 'seizure_1.edf'    "
   ]
  },
  {
   "cell_type": "code",
   "execution_count": null,
   "metadata": {},
   "outputs": [],
   "source": [
    "raw = mne.io.read_raw_edf(str(SAMPLE), preload=True, exclude=[\"BURSTS\",\n",
    "                                                            \"ECG EKG-REF\",\n",
    "                                                            \"EMG-REF\",\n",
    "                                                            \"IBI\",\n",
    "                                                            \"PHOTIC-REF\",\n",
    "                                                            \"PULSE RATE\",\n",
    "                                                            \"RESP ABDOMEN-RE\",\n",
    "                                                            \"SUPPR\"])"
   ]
  },
  {
   "cell_type": "code",
   "execution_count": null,
   "metadata": {},
   "outputs": [],
   "source": [
    "raw.info"
   ]
  },
  {
   "cell_type": "code",
   "execution_count": null,
   "metadata": {},
   "outputs": [],
   "source": [
    "type(raw.info['meas_date'])"
   ]
  },
  {
   "cell_type": "markdown",
   "metadata": {},
   "source": [
    "Mongo DB"
   ]
  },
  {
   "cell_type": "code",
   "execution_count": null,
   "metadata": {},
   "outputs": [],
   "source": [
    "from pymongo import MongoClient\n",
    "import bson\n",
    "import gridfs\n",
    "import gzip\n",
    "\n",
    "client = MongoClient()\n",
    "db = client['eeg_assistant']\n",
    "\n",
    "edf_raw = gridfs.GridFS(db, collection='edf_raw')"
   ]
  },
  {
   "cell_type": "code",
   "execution_count": null,
   "metadata": {},
   "outputs": [],
   "source": [
    "with SAMPLE.open(mode='rb') as f:\n",
    "    raw_bytes = f.read()\n",
    "    print(type(raw_bytes))\n",
    "    \n",
    "    # serialization\n",
    "    file_id = edf_raw.put(gzip.compress(raw_bytes))\n",
    "        \n",
    "    print(file_id)\n",
    "    \n",
    "    raw_data = edf_raw.get(file_id).read()\n",
    "    print(type(raw_data))\n",
    "    raw_data = gzip.decompress(raw_data)\n",
    "    \n",
    "    with NamedTemporaryFile(suffix='.edf') as tf:\n",
    "        tf.write(raw_data)\n",
    "        edf_file = mne.io.read_raw_edf(str(Path(tf.name)), preload=True, exclude=[\"BURSTS\",\n",
    "                                                                                \"ECG EKG-REF\",\n",
    "                                                                                \"EMG-REF\",\n",
    "                                                                                \"IBI\",\n",
    "                                                                                \"PHOTIC-REF\",\n",
    "                                                                                \"PULSE RATE\",\n",
    "                                                                                \"RESP ABDOMEN-RE\",\n",
    "                                                                                \"SUPPR\"])"
   ]
  },
  {
   "cell_type": "code",
   "execution_count": null,
   "metadata": {},
   "outputs": [],
   "source": [
    "edf_file.info"
   ]
  },
  {
   "cell_type": "code",
   "execution_count": null,
   "metadata": {},
   "outputs": [],
   "source": []
  },
  {
   "cell_type": "code",
   "execution_count": null,
   "metadata": {},
   "outputs": [],
   "source": []
  },
  {
   "cell_type": "code",
   "execution_count": null,
   "metadata": {},
   "outputs": [],
   "source": []
  },
  {
   "cell_type": "markdown",
   "metadata": {},
   "source": [
    "## __Samples__"
   ]
  },
  {
   "cell_type": "code",
   "execution_count": null,
   "metadata": {},
   "outputs": [],
   "source": [
    "SAMPLE = settings.DatasetConfig.SAMPLES_DIR / 'abnormal_1.edf'\n",
    "\n",
    "SAMPLE"
   ]
  },
  {
   "cell_type": "code",
   "execution_count": null,
   "metadata": {},
   "outputs": [],
   "source": [
    "raw = mne.io.read_raw_edf(str(SAMPLE), preload=True, exclude=[\"BURSTS\",\n",
    "                                                            \"ECG EKG-REF\",\n",
    "                                                            \"EMG-REF\",\n",
    "                                                            \"IBI\",\n",
    "                                                            \"PHOTIC-REF\",\n",
    "                                                            \"PULSE RATE\",\n",
    "                                                            \"RESP ABDOMEN-RE\",\n",
    "                                                            \"SUPPR\"])"
   ]
  },
  {
   "cell_type": "code",
   "execution_count": null,
   "metadata": {},
   "outputs": [],
   "source": [
    "raw.close()"
   ]
  },
  {
   "cell_type": "code",
   "execution_count": null,
   "metadata": {},
   "outputs": [],
   "source": [
    "raw.info"
   ]
  },
  {
   "cell_type": "code",
   "execution_count": null,
   "metadata": {},
   "outputs": [],
   "source": [
    "raw.ch_names"
   ]
  },
  {
   "cell_type": "code",
   "execution_count": null,
   "metadata": {},
   "outputs": [],
   "source": [
    "raw.n_times"
   ]
  },
  {
   "cell_type": "code",
   "execution_count": null,
   "metadata": {},
   "outputs": [],
   "source": [
    "(raw.n_times / raw.info['sfreq']) / 60"
   ]
  },
  {
   "cell_type": "code",
   "execution_count": null,
   "metadata": {},
   "outputs": [],
   "source": [
    "#raw_cropped = raw.crop(tmin=100)"
   ]
  },
  {
   "cell_type": "code",
   "execution_count": null,
   "metadata": {},
   "outputs": [],
   "source": [
    "raw.plot()"
   ]
  },
  {
   "cell_type": "code",
   "execution_count": null,
   "metadata": {},
   "outputs": [],
   "source": []
  }
 ],
 "metadata": {
  "kernelspec": {
   "display_name": "eeg-web-assistant",
   "language": "python",
   "name": "eeg-web-assistant"
  },
  "language_info": {
   "codemirror_mode": {
    "name": "ipython",
    "version": 3
   },
   "file_extension": ".py",
   "mimetype": "text/x-python",
   "name": "python",
   "nbconvert_exporter": "python",
   "pygments_lexer": "ipython3",
   "version": "3.8.5"
  }
 },
 "nbformat": 4,
 "nbformat_minor": 4
}
